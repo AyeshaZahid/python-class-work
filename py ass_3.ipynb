{
 "cells": [
  {
   "cell_type": "code",
   "execution_count": 4,
   "metadata": {},
   "outputs": [
    {
     "name": "stdout",
     "output_type": "stream",
     "text": [
      "select:\n",
      " 1:Addition\n",
      " 2:Subtraction \n",
      " 3:Multiplication\n",
      " 4:division\n",
      "Select operations form 1, 2, 3, 4 :3\n",
      "Enter first number: 2\n",
      "Enter second number: 3\n",
      "2 * 3 = 6\n"
     ]
    }
   ],
   "source": [
    "def add(num1,num2):\n",
    "    return num1+num2\n",
    "def sub(num1,num2):\n",
    "    return num1-num2\n",
    "def mul(num1,num2):\n",
    "    return num1*num2\n",
    "def div(num1,num2):\n",
    "    return num1/num2\n",
    "print(\"select:\\n 1:Addition\\n 2:Subtraction \\n 3:Multiplication\\n 4:division\")\n",
    "select = input(\"Select operations form 1, 2, 3, 4 :\") \n",
    "  \n",
    "number_1 = int(input(\"Enter first number: \")) \n",
    "number_2 = int(input(\"Enter second number: \")) \n",
    "if select== '1':\n",
    "    print(number_1,\"+\",number_2,\"=\",add(number_1,number_2))\n",
    "elif select =='2':\n",
    "     print(number_1,\"-\",number_2,\"=\",sub(number_1,number_2))\n",
    "elif select =='3':\n",
    "     print(number_1,\"*\",number_2,\"=\",mul(number_1,number_2))\n",
    "elif select =='4':\n",
    "     print(number_1,\"/\",number_2,\"=\",div(number_1,number_2))\n",
    "else:\n",
    "    print(\"Invalid Input\")"
   ]
  },
  {
   "cell_type": "code",
   "execution_count": 9,
   "metadata": {},
   "outputs": [
    {
     "name": "stdout",
     "output_type": "stream",
     "text": [
      "check if 22 is present in the list\n",
      "element is present\n"
     ]
    }
   ],
   "source": [
    "my_list=[\"abc\",10,'c',22]\n",
    "print(\"check if 22 is present in the list\")\n",
    "i=22\n",
    "for i in my_list:\n",
    "    if(i==22):\n",
    "        print(\"element is present\")\n",
    "   "
   ]
  },
  {
   "cell_type": "code",
   "execution_count": 12,
   "metadata": {},
   "outputs": [
    {
     "name": "stdout",
     "output_type": "stream",
     "text": [
      "{1: 'aye', 2: 'sha'}\n"
     ]
    }
   ],
   "source": [
    "class my_dic(dict):\n",
    "    def _init(self):\n",
    "        self=dict()\n",
    "    def add(self, key, value): \n",
    "        self[key] = value \n",
    "obj=my_dic()\n",
    "obj.add(1,\"aye\")\n",
    "obj.add(2,\"sha\")\n",
    "print(obj)"
   ]
  },
  {
   "cell_type": "code",
   "execution_count": 14,
   "metadata": {},
   "outputs": [
    {
     "name": "stdout",
     "output_type": "stream",
     "text": [
      "300\n"
     ]
    }
   ],
   "source": [
    "my_dic={'data1':100,'data2':-200,'data3':400}\n",
    "print(sum(my_dic.values()))"
   ]
  },
  {
   "cell_type": "code",
   "execution_count": 17,
   "metadata": {},
   "outputs": [
    {
     "name": "stdout",
     "output_type": "stream",
     "text": [
      "duplicates are present\n"
     ]
    }
   ],
   "source": [
    "my_list=[\"abc\",\"bca\",\"happy\",\"bca\",\"copy\"]\n",
    "def checking(my_list):\n",
    "    if len(my_list) == len(set(my_list)):\n",
    "        return False\n",
    "    else:\n",
    "        return True\n",
    "result = checking(my_list)\n",
    "if result:\n",
    "    print(\"duplicates are present\")\n",
    "else:\n",
    "    print(\"duplicates are not present\")\n",
    "        "
   ]
  },
  {
   "cell_type": "code",
   "execution_count": 18,
   "metadata": {},
   "outputs": [
    {
     "name": "stdout",
     "output_type": "stream",
     "text": [
      "Present,  value = 200\n",
      "Not present\n"
     ]
    }
   ],
   "source": [
    "def checkKey(dict, key): \n",
    "      \n",
    "    if key in dict.keys(): \n",
    "        print(\"Present, \", end =\" \") \n",
    "        print(\"value =\", dict[key]) \n",
    "    else: \n",
    "        print(\"Not present\")   \n",
    "\n",
    "dict = {'a': 100, 'b':200, 'c':300} \n",
    "  \n",
    "key = 'b'\n",
    "checkKey(dict, key) \n",
    "  \n",
    "key = 'w'\n",
    "checkKey(dict, key) "
   ]
  },
  {
   "cell_type": "code",
   "execution_count": null,
   "metadata": {},
   "outputs": [],
   "source": []
  },
  {
   "cell_type": "code",
   "execution_count": null,
   "metadata": {},
   "outputs": [],
   "source": []
  }
 ],
 "metadata": {
  "kernelspec": {
   "display_name": "Python 3",
   "language": "python",
   "name": "python3"
  },
  "language_info": {
   "codemirror_mode": {
    "name": "ipython",
    "version": 3
   },
   "file_extension": ".py",
   "mimetype": "text/x-python",
   "name": "python",
   "nbconvert_exporter": "python",
   "pygments_lexer": "ipython3",
   "version": "3.7.4"
  }
 },
 "nbformat": 4,
 "nbformat_minor": 2
}
