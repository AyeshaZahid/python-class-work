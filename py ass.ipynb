{
 "cells": [
  {
   "cell_type": "code",
   "execution_count": 33,
   "metadata": {},
   "outputs": [
    {
     "name": "stdout",
     "output_type": "stream",
     "text": [
      "Twinkle, twinkle, little star,\n",
      "\t How I wonder what you are,\n",
      "\t\t Up above the world so high,\n",
      "\t\t\t like a diamond in the sky.\n",
      " Twinkle, twinkle, little star,\n",
      "\t How I wonder what you are,\n"
     ]
    }
   ],
   "source": [
    "print('Twinkle, twinkle, little star,\\n\\t How I wonder what you are,\\n\\t\\t Up above the world so high,\\n\\t\\t\\t like a diamond in the sky.\\n Twinkle, twinkle, little star,\\n\\t How I wonder what you are,')\n",
    "\n",
    "#','\n",
    "#''   "
   ]
  },
  {
   "cell_type": "code",
   "execution_count": 1,
   "metadata": {},
   "outputs": [
    {
     "name": "stdout",
     "output_type": "stream",
     "text": [
      "python version\n",
      "3.7.4 (default, Aug  9 2019, 18:22:51) [MSC v.1915 32 bit (Intel)]\n",
      "version info\n",
      "sys.version_info(major=3, minor=7, micro=4, releaselevel='final', serial=0)\n"
     ]
    }
   ],
   "source": [
    "import sys\n",
    "print(\"python version\")\n",
    "print(sys.version)\n",
    "print(\"version info\")\n",
    "print(sys.version_info)"
   ]
  },
  {
   "cell_type": "code",
   "execution_count": 4,
   "metadata": {},
   "outputs": [
    {
     "name": "stdout",
     "output_type": "stream",
     "text": [
      "2019-11-03 02:52:31.273587\n"
     ]
    }
   ],
   "source": [
    "import datetime\n",
    "x=datetime.datetime.now()\n",
    "print(x)"
   ]
  },
  {
   "cell_type": "code",
   "execution_count": 13,
   "metadata": {},
   "outputs": [
    {
     "name": "stdout",
     "output_type": "stream",
     "text": [
      "input radius\n",
      "3\n",
      "Area of circle\n",
      "28.26\n"
     ]
    }
   ],
   "source": [
    "print(\"input radius\")\n",
    "x=input()\n",
    "print('Area of circle')\n",
    "print(3.14*int(x)**2)"
   ]
  },
  {
   "cell_type": "code",
   "execution_count": 23,
   "metadata": {},
   "outputs": [
    {
     "name": "stdout",
     "output_type": "stream",
     "text": [
      "input first no.\n",
      "3\n",
      "first no.3\n",
      "input second no.\n",
      "4\n",
      "second no.\n",
      "addition:\n",
      "7\n"
     ]
    }
   ],
   "source": [
    "print(\"input first no.\")\n",
    "x=input()\n",
    "print(\"first no.\"+x)\n",
    "print(\"input second no.\")\n",
    "y=input()\n",
    "print(\"second no.\")\n",
    "print(\"addition:\")\n",
    "\n",
    "print(int(x)+int(y))"
   ]
  },
  {
   "cell_type": "code",
   "execution_count": 29,
   "metadata": {},
   "outputs": [
    {
     "name": "stdout",
     "output_type": "stream",
     "text": [
      "input first name.\n",
      "ayesha\n",
      "input second name.\n",
      "zahid\n",
      "first name.\n",
      "ahseya\n",
      "second name.\n",
      "dihaz\n"
     ]
    }
   ],
   "source": [
    "print(\"input first name.\")\n",
    "x=input()\n",
    "print(\"input second name.\")\n",
    "y=input()\n",
    "x=x[::-1]\n",
    "y=y[::-1]\n",
    "\n",
    "print(\"first name.\\n\" +x)\n",
    "print(\"second name.\\n\"+y)\n",
    "\n"
   ]
  },
  {
   "cell_type": "code",
   "execution_count": null,
   "metadata": {},
   "outputs": [],
   "source": []
  },
  {
   "cell_type": "markdown",
   "metadata": {},
   "source": []
  },
  {
   "cell_type": "code",
   "execution_count": null,
   "metadata": {},
   "outputs": [],
   "source": []
  },
  {
   "cell_type": "code",
   "execution_count": null,
   "metadata": {},
   "outputs": [],
   "source": []
  },
  {
   "cell_type": "code",
   "execution_count": null,
   "metadata": {},
   "outputs": [],
   "source": []
  },
  {
   "cell_type": "code",
   "execution_count": null,
   "metadata": {},
   "outputs": [],
   "source": []
  }
 ],
 "metadata": {
  "kernelspec": {
   "display_name": "Python 3",
   "language": "python",
   "name": "python3"
  },
  "language_info": {
   "codemirror_mode": {
    "name": "ipython",
    "version": 3
   },
   "file_extension": ".py",
   "mimetype": "text/x-python",
   "name": "python",
   "nbconvert_exporter": "python",
   "pygments_lexer": "ipython3",
   "version": "3.7.4"
  }
 },
 "nbformat": 4,
 "nbformat_minor": 2
}
